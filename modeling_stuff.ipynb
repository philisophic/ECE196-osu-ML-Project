{
 "cells": [
  {
   "cell_type": "code",
   "execution_count": 317,
   "metadata": {},
   "outputs": [],
   "source": [
    "import pandas as pd\n",
    "import numpy as np\n",
    "import matplotlib.pyplot as plt\n",
    "import seaborn as sns\n",
    "import random, time\n",
    "from sklearn import svm\n",
    "\n",
    "id = 1815478 #me\n",
    "# id = 259972 #jakads\n",
    "# id = 5610085 #etiennexc\n",
    "filename = '{}.csv'.format(id)\n",
    "player_data = pd.read_csv(filename)"
   ]
  },
  {
   "cell_type": "code",
   "execution_count": 318,
   "metadata": {},
   "outputs": [],
   "source": [
    "startTime = time.time()"
   ]
  },
  {
   "cell_type": "code",
   "execution_count": 319,
   "metadata": {
    "scrolled": true
   },
   "outputs": [
    {
     "data": {
      "text/html": [
       "<div>\n",
       "<style scoped>\n",
       "    .dataframe tbody tr th:only-of-type {\n",
       "        vertical-align: middle;\n",
       "    }\n",
       "\n",
       "    .dataframe tbody tr th {\n",
       "        vertical-align: top;\n",
       "    }\n",
       "\n",
       "    .dataframe thead th {\n",
       "        text-align: right;\n",
       "    }\n",
       "</style>\n",
       "<table border=\"1\" class=\"dataframe\">\n",
       "  <thead>\n",
       "    <tr style=\"text-align: right;\">\n",
       "      <th></th>\n",
       "      <th>difficulty_rating</th>\n",
       "      <th>accuracy</th>\n",
       "      <th>bpm</th>\n",
       "      <th>count_circles</th>\n",
       "      <th>count_sliders</th>\n",
       "      <th>hit_length</th>\n",
       "      <th>passcount</th>\n",
       "      <th>playcount</th>\n",
       "      <th>total_length</th>\n",
       "      <th>count_50</th>\n",
       "      <th>count_100</th>\n",
       "      <th>count_300</th>\n",
       "      <th>count_geki</th>\n",
       "      <th>count_katu</th>\n",
       "      <th>count_miss</th>\n",
       "      <th>mods</th>\n",
       "      <th>pp</th>\n",
       "      <th>MA</th>\n",
       "      <th>pass_rate</th>\n",
       "    </tr>\n",
       "  </thead>\n",
       "  <tbody>\n",
       "    <tr>\n",
       "      <th>28</th>\n",
       "      <td>5.22</td>\n",
       "      <td>8.0</td>\n",
       "      <td>256.0</td>\n",
       "      <td>1357</td>\n",
       "      <td>214</td>\n",
       "      <td>120</td>\n",
       "      <td>49254</td>\n",
       "      <td>177595</td>\n",
       "      <td>121</td>\n",
       "      <td>4</td>\n",
       "      <td>42</td>\n",
       "      <td>497</td>\n",
       "      <td>853</td>\n",
       "      <td>153</td>\n",
       "      <td>22</td>\n",
       "      <td>0</td>\n",
       "      <td>200.242</td>\n",
       "      <td>1.716298</td>\n",
       "      <td>0.277339</td>\n",
       "    </tr>\n",
       "    <tr>\n",
       "      <th>32</th>\n",
       "      <td>4.54</td>\n",
       "      <td>8.0</td>\n",
       "      <td>222.0</td>\n",
       "      <td>1740</td>\n",
       "      <td>103</td>\n",
       "      <td>151</td>\n",
       "      <td>24948</td>\n",
       "      <td>106875</td>\n",
       "      <td>155</td>\n",
       "      <td>0</td>\n",
       "      <td>2</td>\n",
       "      <td>540</td>\n",
       "      <td>1269</td>\n",
       "      <td>30</td>\n",
       "      <td>2</td>\n",
       "      <td>0</td>\n",
       "      <td>196.095</td>\n",
       "      <td>2.350000</td>\n",
       "      <td>0.233432</td>\n",
       "    </tr>\n",
       "    <tr>\n",
       "      <th>33</th>\n",
       "      <td>4.58</td>\n",
       "      <td>8.0</td>\n",
       "      <td>225.5</td>\n",
       "      <td>1660</td>\n",
       "      <td>70</td>\n",
       "      <td>117</td>\n",
       "      <td>23769</td>\n",
       "      <td>88326</td>\n",
       "      <td>118</td>\n",
       "      <td>0</td>\n",
       "      <td>5</td>\n",
       "      <td>543</td>\n",
       "      <td>1129</td>\n",
       "      <td>51</td>\n",
       "      <td>2</td>\n",
       "      <td>0</td>\n",
       "      <td>195.276</td>\n",
       "      <td>2.079190</td>\n",
       "      <td>0.269105</td>\n",
       "    </tr>\n",
       "    <tr>\n",
       "      <th>34</th>\n",
       "      <td>4.66</td>\n",
       "      <td>8.0</td>\n",
       "      <td>191.0</td>\n",
       "      <td>1279</td>\n",
       "      <td>185</td>\n",
       "      <td>131</td>\n",
       "      <td>169302</td>\n",
       "      <td>488750</td>\n",
       "      <td>173</td>\n",
       "      <td>1</td>\n",
       "      <td>13</td>\n",
       "      <td>345</td>\n",
       "      <td>1040</td>\n",
       "      <td>56</td>\n",
       "      <td>9</td>\n",
       "      <td>0</td>\n",
       "      <td>195.240</td>\n",
       "      <td>3.014493</td>\n",
       "      <td>0.346398</td>\n",
       "    </tr>\n",
       "    <tr>\n",
       "      <th>48</th>\n",
       "      <td>4.51</td>\n",
       "      <td>8.0</td>\n",
       "      <td>180.0</td>\n",
       "      <td>3927</td>\n",
       "      <td>676</td>\n",
       "      <td>433</td>\n",
       "      <td>36667</td>\n",
       "      <td>148848</td>\n",
       "      <td>436</td>\n",
       "      <td>5</td>\n",
       "      <td>1</td>\n",
       "      <td>1067</td>\n",
       "      <td>3465</td>\n",
       "      <td>56</td>\n",
       "      <td>9</td>\n",
       "      <td>0</td>\n",
       "      <td>189.617</td>\n",
       "      <td>3.247423</td>\n",
       "      <td>0.246339</td>\n",
       "    </tr>\n",
       "  </tbody>\n",
       "</table>\n",
       "</div>"
      ],
      "text/plain": [
       "    difficulty_rating  accuracy    bpm  count_circles  count_sliders  \\\n",
       "28               5.22       8.0  256.0           1357            214   \n",
       "32               4.54       8.0  222.0           1740            103   \n",
       "33               4.58       8.0  225.5           1660             70   \n",
       "34               4.66       8.0  191.0           1279            185   \n",
       "48               4.51       8.0  180.0           3927            676   \n",
       "\n",
       "    hit_length  passcount  playcount  total_length  count_50  count_100  \\\n",
       "28         120      49254     177595           121         4         42   \n",
       "32         151      24948     106875           155         0          2   \n",
       "33         117      23769      88326           118         0          5   \n",
       "34         131     169302     488750           173         1         13   \n",
       "48         433      36667     148848           436         5          1   \n",
       "\n",
       "    count_300  count_geki  count_katu  count_miss mods       pp        MA  \\\n",
       "28        497         853         153          22    0  200.242  1.716298   \n",
       "32        540        1269          30           2    0  196.095  2.350000   \n",
       "33        543        1129          51           2    0  195.276  2.079190   \n",
       "34        345        1040          56           9    0  195.240  3.014493   \n",
       "48       1067        3465          56           9    0  189.617  3.247423   \n",
       "\n",
       "    pass_rate  \n",
       "28   0.277339  \n",
       "32   0.233432  \n",
       "33   0.269105  \n",
       "34   0.346398  \n",
       "48   0.246339  "
      ]
     },
     "execution_count": 319,
     "metadata": {},
     "output_type": "execute_result"
    }
   ],
   "source": [
    "player_data['MA'] = player_data['count_geki']/player_data['count_300']\n",
    "player_data['pass_rate'] = player_data['passcount']/player_data['playcount']\n",
    "test_ind = random.sample(range(51), 5)\n",
    "test_ind.sort()\n",
    "test_data = player_data.loc[test_ind]\n",
    "training_data = player_data.loc[[i for i in range(51) if i not in test_ind]]\n",
    "test_data"
   ]
  },
  {
   "cell_type": "code",
   "execution_count": 320,
   "metadata": {},
   "outputs": [
    {
     "data": {
      "text/plain": [
       "difficulty_rating    5.22\n",
       "bpm                   256\n",
       "Name: 28, dtype: object"
      ]
     },
     "execution_count": 320,
     "metadata": {},
     "output_type": "execute_result"
    }
   ],
   "source": [
    "test_data.loc[test_ind[0], ['difficulty_rating', 'bpm']]"
   ]
  },
  {
   "cell_type": "code",
   "execution_count": 321,
   "metadata": {},
   "outputs": [],
   "source": [
    "X = training_data[['difficulty_rating', 'total_length']]\n",
    "Y = training_data['MA']\n",
    "regr = svm.SVR(epsilon = 0.8, C = 0.75)\n",
    "regr.fit(X,Y);\n",
    "# player_data[['difficulty_rating']]"
   ]
  },
  {
   "cell_type": "code",
   "execution_count": 322,
   "metadata": {
    "scrolled": false
   },
   "outputs": [
    {
     "name": "stdout",
     "output_type": "stream",
     "text": [
      "Predicted MA: 2.675, Actual MA: 1.716\n",
      "Predicted MA: 2.667, Actual MA: 2.350\n",
      "Predicted MA: 2.676, Actual MA: 2.079\n",
      "Predicted MA: 2.655, Actual MA: 3.014\n",
      "Predicted MA: 2.541, Actual MA: 3.247\n",
      "\n",
      "Percent within Epsilon of 0.8: 100%\n",
      "Mean square error: 2.00\n"
     ]
    }
   ],
   "source": [
    "countCorrect = 0;\n",
    "meanSquareError = 0;\n",
    "\n",
    "for i in range(len(test_data)):\n",
    "    # I have no idea what happened here but it works so I'm not changing it\n",
    "    predictedMA = regr.predict(pd.DataFrame.transpose(pd.DataFrame(test_data.loc[test_ind[i], ['difficulty_rating', 'total_length']])))\n",
    "    actualMA = test_data.loc[test_ind[i], 'MA']\n",
    "    print('Predicted MA: %.3f, Actual MA: %.3f' % (predictedMA, actualMA))\n",
    "    \n",
    "    # calculate error statistics\n",
    "    error = abs(predictedMA - actualMA)\n",
    "    if (abs(error) < 1):\n",
    "        countCorrect += 1\n",
    "    meanSquareError += error ** 2\n",
    "\n",
    "print('\\nPercent within Epsilon of 0.8: %d%%' % (countCorrect/5 * 100))\n",
    "print('Mean square error: %.2f' % (meanSquareError))"
   ]
  },
  {
   "cell_type": "code",
   "execution_count": 323,
   "metadata": {},
   "outputs": [],
   "source": [
    "test_ind = np.random.randint(51, size=5)"
   ]
  },
  {
   "cell_type": "code",
   "execution_count": 324,
   "metadata": {
    "scrolled": false
   },
   "outputs": [
    {
     "data": {
      "text/plain": [
       "<seaborn.axisgrid.FacetGrid at 0x222adf8fac0>"
      ]
     },
     "execution_count": 324,
     "metadata": {},
     "output_type": "execute_result"
    },
    {
     "data": {
      "image/png": "[encoded data removed]",
      "text/plain": [
       "<Figure size 360x360 with 1 Axes>"
      ]
     },
     "metadata": {
      "needs_background": "light"
     },
     "output_type": "display_data"
    }
   ],
   "source": [
    "sns.lmplot(data=player_data, x='total_length', y='MA')"
   ]
  },
  {
   "cell_type": "code",
   "execution_count": 325,
   "metadata": {},
   "outputs": [
    {
     "data": {
      "text/plain": [
       "<seaborn.axisgrid.FacetGrid at 0x222adf12b50>"
      ]
     },
     "execution_count": 325,
     "metadata": {},
     "output_type": "execute_result"
    },
    {
     "data": {
      "image/png": "[encoded data removed]",
      "text/plain": [
       "<Figure size 360x360 with 1 Axes>"
      ]
     },
     "metadata": {
      "needs_background": "light"
     },
     "output_type": "display_data"
    }
   ],
   "source": [
    "sns.lmplot(data=player_data, x='accuracy', y='MA')"
   ]
  },
  {
   "cell_type": "code",
   "execution_count": 326,
   "metadata": {},
   "outputs": [
    {
     "name": "stdout",
     "output_type": "stream",
     "text": [
      "Time to execute: 1.0900 seconds\n"
     ]
    }
   ],
   "source": [
    "print(\"Time to execute: %.4f seconds\" % (time.time() - startTime))"
   ]
  }
 ],
 "metadata": {
  "kernelspec": {
   "display_name": "Python 3",
   "language": "python",
   "name": "python3"
  },
  "language_info": {
   "codemirror_mode": {
    "name": "ipython",
    "version": 3
   },
   "file_extension": ".py",
   "mimetype": "text/x-python",
   "name": "python",
   "nbconvert_exporter": "python",
   "pygments_lexer": "ipython3",
   "version": "3.8.6"
  }
 },
 "nbformat": 4,
 "nbformat_minor": 4
}
